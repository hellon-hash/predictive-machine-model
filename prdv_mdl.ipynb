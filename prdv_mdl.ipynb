{
  "nbformat": 4,
  "nbformat_minor": 0,
  "metadata": {
    "colab": {
      "provenance": [],
      "authorship_tag": "ABX9TyNHvsDSEb+a8uE7dPY2OgnA",
      "include_colab_link": true
    },
    "kernelspec": {
      "name": "python3",
      "display_name": "Python 3"
    },
    "language_info": {
      "name": "python"
    }
  },
  "cells": [
    {
      "cell_type": "markdown",
      "metadata": {
        "id": "view-in-github",
        "colab_type": "text"
      },
      "source": [
        "<a href=\"https://colab.research.google.com/github/hellon-hash/predictive-machine-model/blob/main/prdv_mdl.ipynb\" target=\"_parent\"><img src=\"https://colab.research.google.com/assets/colab-badge.svg\" alt=\"Open In Colab\"/></a>"
      ]
    },
    {
      "cell_type": "code",
      "execution_count": 6,
      "metadata": {
        "colab": {
          "base_uri": "https://localhost:8080/"
        },
        "id": "E85WgebRiTEI",
        "outputId": "a4f67dff-e086-44be-f1ae-772a97e986ec"
      },
      "outputs": [
        {
          "output_type": "stream",
          "name": "stdout",
          "text": [
            "Predicted time in years: 3054700.0\n",
            "Machine is operating under normal parameters.\n"
          ]
        }
      ],
      "source": [
        "from sklearn.model_selection import train_test_split\n",
        "import pandas as pd\n",
        "from sklearn.ensemble import RandomForestRegressor\n",
        "from sklearn.preprocessing import StandardScaler\n",
        "import numpy as np\n",
        "\n",
        "\n",
        "# Load data\n",
        "hellon = pd.read_csv('hellon_dataset.csv')\n",
        "\n",
        "\n",
        "X = hellon[[\"ID\", \"revolutions\", \"humidity\", \"vibration\", \"x1\", \"x2\", \"x3\", \"x4\", \"x5\"]]\n",
        "y = hellon[\"Age\"]\n",
        "\n",
        "\n",
        "X_train, X_test, y_train, y_test = train_test_split(X, y, test_size=0.2, random_state=42)\n",
        "\n",
        "\n",
        "scaler = StandardScaler()\n",
        "X_train_scaled = scaler.fit_transform(X_train)\n",
        "X_test_scaled = scaler.transform(X_test)\n",
        "\n",
        "\n",
        "model = RandomForestRegressor()\n",
        "\n",
        "\n",
        "model.fit(X_train_scaled, y_train)\n",
        "\n",
        "new_data = pd.DataFrame({\n",
        "    \"ID\": [7],\n",
        "        \"revolutions\": [678.705],\n",
        "            \"humidity\": [73.996],\n",
        "                \"vibration\": [758.67],\n",
        "                    \"x1\": [18.01],\n",
        "                        \"x2\": [5448.87],\n",
        "                            \"x3\": [177.3],\n",
        "                                \"x4\": [67.345],\n",
        "                                    \"x5\": [754.7]\n",
        "                                    })\n",
        "\n",
        "new_data_scaled = scaler.transform(new_data)\n",
        "\n",
        "\n",
        "predicted_time_until_failure = model.predict(new_data_scaled)\n",
        "print(f\"Predicted time in years: {predicted_time_until_failure[0]}\")\n",
        "\n",
        "maintenance_threshold = 2855765\n",
        "\n",
        "\n",
        "if predicted_time_until_failure[0] < maintenance_threshold:\n",
        "    print(\"Alert: MAINTAIN MACHINE\")\n",
        "else:\n",
        "     print(\"Machine is operating under normal parameters.\")"
      ]
    }
  ]
}